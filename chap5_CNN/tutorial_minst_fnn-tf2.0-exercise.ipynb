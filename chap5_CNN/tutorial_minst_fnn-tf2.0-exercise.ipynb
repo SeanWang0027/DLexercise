{
  "cells": [
    {
      "cell_type": "markdown",
      "metadata": {
        "id": "zy2yjAue1G85"
      },
      "source": [
        "## 准备数据"
      ]
    },
    {
      "cell_type": "code",
      "execution_count": 1,
      "metadata": {
        "id": "F0-QPqWv1G89"
      },
      "outputs": [],
      "source": [
        "import os\n",
        "import numpy as np\n",
        "import tensorflow as tf\n",
        "from tensorflow import keras\n",
        "from tensorflow.keras import layers, optimizers, datasets\n",
        "\n",
        "os.environ['TF_CPP_MIN_LOG_LEVEL'] = '2'  # or any {'0', '1', '2'}\n",
        "\n",
        "def mnist_dataset():\n",
        "    (x, y), (x_test, y_test) = datasets.mnist.load_data()\n",
        "    #normalize\n",
        "    x = x/255.0\n",
        "    x_test = x_test/255.0\n",
        "\n",
        "    return (x, y), (x_test, y_test)"
      ]
    },
    {
      "cell_type": "code",
      "execution_count": 2,
      "metadata": {
        "colab": {
          "base_uri": "https://localhost:8080/"
        },
        "id": "6i8lnz3W1G8_",
        "outputId": "4e6f7357-55eb-4ad9-f47f-cb8a7bd411b9"
      },
      "outputs": [
        {
          "output_type": "stream",
          "name": "stdout",
          "text": [
            "[(1, 'a'), (2, 'b'), (3, 'c'), (4, 'd')]\n"
          ]
        }
      ],
      "source": [
        "print(list(zip([1, 2, 3, 4], ['a', 'b', 'c', 'd'])))"
      ]
    },
    {
      "cell_type": "markdown",
      "metadata": {
        "id": "EiWbu8pj1G8_"
      },
      "source": [
        "## 建立模型"
      ]
    },
    {
      "cell_type": "code",
      "execution_count": 6,
      "metadata": {
        "id": "1I-RrD7J1G9A"
      },
      "outputs": [],
      "source": [
        "class myModel:\n",
        "    def __init__(self):\n",
        "        ####################\n",
        "        '''声明模型对应的参数'''\n",
        "        ####################\n",
        "        # 第一层权重和偏置 (784 -> 128)\n",
        "        self.W1 = tf.Variable(tf.random.normal([784, 128], stddev=0.1), trainable=True)\n",
        "        self.b1 = tf.Variable(tf.zeros([128]), trainable=True)\n",
        "\n",
        "        # 第二层权重和偏置 (128 -> 10)\n",
        "        self.W2 = tf.Variable(tf.random.normal([128, 10], stddev=0.1), trainable=True)\n",
        "        self.b2 = tf.Variable(tf.zeros([10]), trainable=True)\n",
        "\n",
        "    def __call__(self, x):\n",
        "        ####################\n",
        "        '''实现模型函数体，返回未归一化的logits'''\n",
        "        ####################\n",
        "        # 输入 x 形状: (batch_size, 28, 28)\n",
        "\n",
        "        # 展平输入，从 (batch_size, 28, 28) 到 (batch_size, 784)\n",
        "        x_flat = tf.reshape(x, [-1, 784])  # -1 表示自动推断 batch_size\n",
        "\n",
        "        # 第一层：线性变换 + ReLU\n",
        "        h1 = tf.matmul(x_flat, self.W1) + self.b1  # (batch_size, 128)\n",
        "        h1 = tf.nn.relu(h1)\n",
        "\n",
        "        # 第二层：线性变换得到 logits\n",
        "        logits = tf.matmul(h1, self.W2) + self.b2  # (batch_size, 10)\n",
        "\n",
        "        return logits\n",
        "\n",
        "model = myModel()\n",
        "\n",
        "optimizer = optimizers.Adam()"
      ]
    },
    {
      "cell_type": "markdown",
      "metadata": {
        "id": "2FIr055f1G9A"
      },
      "source": [
        "## 计算 loss"
      ]
    },
    {
      "cell_type": "code",
      "execution_count": 9,
      "metadata": {
        "id": "bfKJR1Vo1G9B"
      },
      "outputs": [],
      "source": [
        "@tf.function\n",
        "def compute_loss(logits, labels):\n",
        "    return tf.reduce_mean(\n",
        "        tf.nn.sparse_softmax_cross_entropy_with_logits(\n",
        "            logits=logits, labels=labels))\n",
        "\n",
        "@tf.function\n",
        "def compute_accuracy(logits, labels):\n",
        "    predictions = tf.argmax(logits, axis=1)\n",
        "    return tf.reduce_mean(tf.cast(tf.equal(predictions, labels), tf.float32))\n",
        "\n",
        "@tf.function\n",
        "def train_one_step(model, optimizer, x, y):\n",
        "    with tf.GradientTape() as tape:\n",
        "        logits = model(x)\n",
        "        loss = compute_loss(logits, y)\n",
        "\n",
        "    # compute gradient\n",
        "    trainable_vars = [model.W1, model.W2, model.b1, model.b2]\n",
        "    grads = tape.gradient(loss, trainable_vars)\n",
        "    for g, v in zip(grads, trainable_vars):\n",
        "        v.assign_sub(0.1*g)\n",
        "\n",
        "    accuracy = compute_accuracy(logits, y)\n",
        "\n",
        "    # loss and accuracy is scalar tensor\n",
        "    return loss, accuracy\n",
        "\n",
        "@tf.function\n",
        "def test(model, x, y):\n",
        "    logits = model(x)\n",
        "    loss = compute_loss(logits, y)\n",
        "    accuracy = compute_accuracy(logits, y)\n",
        "    return loss, accuracy"
      ]
    },
    {
      "cell_type": "markdown",
      "metadata": {
        "id": "hg0qIcTJ1G9B"
      },
      "source": [
        "## 实际训练"
      ]
    },
    {
      "cell_type": "code",
      "execution_count": 10,
      "metadata": {
        "colab": {
          "base_uri": "https://localhost:8080/"
        },
        "id": "zJDvRaVu1G9C",
        "outputId": "bda40c7c-d6d5-4064-8a25-c7c780319a16"
      },
      "outputs": [
        {
          "output_type": "stream",
          "name": "stdout",
          "text": [
            "epoch 0 : loss 1.9475522 ; accuracy 0.3744\n",
            "epoch 1 : loss 1.8655021 ; accuracy 0.43176666\n",
            "epoch 2 : loss 1.7890692 ; accuracy 0.48031667\n",
            "epoch 3 : loss 1.7176011 ; accuracy 0.5222333\n",
            "epoch 4 : loss 1.6506388 ; accuracy 0.55478334\n",
            "epoch 5 : loss 1.5878128 ; accuracy 0.58178335\n",
            "epoch 6 : loss 1.528856 ; accuracy 0.60566664\n",
            "epoch 7 : loss 1.4735084 ; accuracy 0.62691665\n",
            "epoch 8 : loss 1.4215324 ; accuracy 0.6447333\n",
            "epoch 9 : loss 1.3727349 ; accuracy 0.66048336\n",
            "epoch 10 : loss 1.3269379 ; accuracy 0.67513335\n",
            "epoch 11 : loss 1.2839625 ; accuracy 0.6878333\n",
            "epoch 12 : loss 1.2436486 ; accuracy 0.69946665\n",
            "epoch 13 : loss 1.2058303 ; accuracy 0.70998335\n",
            "epoch 14 : loss 1.1703559 ; accuracy 0.71888334\n",
            "epoch 15 : loss 1.1370738 ; accuracy 0.72713333\n",
            "epoch 16 : loss 1.1058396 ; accuracy 0.73508334\n",
            "epoch 17 : loss 1.0765121 ; accuracy 0.74368334\n",
            "epoch 18 : loss 1.0489576 ; accuracy 0.7511333\n",
            "epoch 19 : loss 1.0230587 ; accuracy 0.75685\n",
            "epoch 20 : loss 0.9987052 ; accuracy 0.76295\n",
            "epoch 21 : loss 0.97578114 ; accuracy 0.7690167\n",
            "epoch 22 : loss 0.95418876 ; accuracy 0.77415\n",
            "epoch 23 : loss 0.93382514 ; accuracy 0.7791167\n",
            "epoch 24 : loss 0.9146108 ; accuracy 0.78321666\n",
            "epoch 25 : loss 0.89645547 ; accuracy 0.7873\n",
            "epoch 26 : loss 0.8792831 ; accuracy 0.7909667\n",
            "epoch 27 : loss 0.8630196 ; accuracy 0.7941667\n",
            "epoch 28 : loss 0.8475998 ; accuracy 0.7970833\n",
            "epoch 29 : loss 0.83297426 ; accuracy 0.79983336\n",
            "epoch 30 : loss 0.8190838 ; accuracy 0.80266666\n",
            "epoch 31 : loss 0.80587447 ; accuracy 0.80521667\n",
            "epoch 32 : loss 0.7933047 ; accuracy 0.8078833\n",
            "epoch 33 : loss 0.78132904 ; accuracy 0.81028336\n",
            "epoch 34 : loss 0.76990664 ; accuracy 0.81238335\n",
            "epoch 35 : loss 0.75900036 ; accuracy 0.81436664\n",
            "epoch 36 : loss 0.74857694 ; accuracy 0.81623334\n",
            "epoch 37 : loss 0.7386087 ; accuracy 0.81818336\n",
            "epoch 38 : loss 0.72906536 ; accuracy 0.82028335\n",
            "epoch 39 : loss 0.7199196 ; accuracy 0.8221\n",
            "epoch 40 : loss 0.7111448 ; accuracy 0.8238\n",
            "epoch 41 : loss 0.70271975 ; accuracy 0.8257\n",
            "epoch 42 : loss 0.69462574 ; accuracy 0.82743335\n",
            "epoch 43 : loss 0.6868443 ; accuracy 0.8290667\n",
            "epoch 44 : loss 0.6793551 ; accuracy 0.83038336\n",
            "epoch 45 : loss 0.6721423 ; accuracy 0.83173335\n",
            "epoch 46 : loss 0.6651899 ; accuracy 0.8329333\n",
            "epoch 47 : loss 0.6584849 ; accuracy 0.8341333\n",
            "epoch 48 : loss 0.6520129 ; accuracy 0.83556664\n",
            "epoch 49 : loss 0.64576167 ; accuracy 0.83681667\n",
            "test loss 0.6142549 ; accuracy 0.8476\n"
          ]
        }
      ],
      "source": [
        "train_data, test_data = mnist_dataset()\n",
        "for epoch in range(50):\n",
        "    loss, accuracy = train_one_step(model, optimizer,\n",
        "                                    tf.constant(train_data[0], dtype=tf.float32),\n",
        "                                    tf.constant(train_data[1], dtype=tf.int64))\n",
        "    print('epoch', epoch, ': loss', loss.numpy(), '; accuracy', accuracy.numpy())\n",
        "loss, accuracy = test(model,\n",
        "                      tf.constant(test_data[0], dtype=tf.float32),\n",
        "                      tf.constant(test_data[1], dtype=tf.int64))\n",
        "\n",
        "print('test loss', loss.numpy(), '; accuracy', accuracy.numpy())"
      ]
    }
  ],
  "metadata": {
    "kernelspec": {
      "display_name": "Python 3",
      "language": "python",
      "name": "python3"
    },
    "language_info": {
      "codemirror_mode": {
        "name": "ipython",
        "version": 3
      },
      "file_extension": ".py",
      "mimetype": "text/x-python",
      "name": "python",
      "nbconvert_exporter": "python",
      "pygments_lexer": "ipython3",
      "version": "3.7.0"
    },
    "colab": {
      "provenance": []
    }
  },
  "nbformat": 4,
  "nbformat_minor": 0
}